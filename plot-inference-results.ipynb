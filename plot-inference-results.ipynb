{
 "cells": [
  {
   "cell_type": "code",
   "execution_count": null,
   "id": "9b1e4881",
   "metadata": {},
   "outputs": [],
   "source": [
    "!pwd"
   ]
  },
  {
   "cell_type": "code",
   "execution_count": null,
   "id": "40877d85",
   "metadata": {},
   "outputs": [],
   "source": [
    "import numpy as np\n",
    "import matplotlib.pyplot as plt\n",
    "import matplotlib as mpl\n",
    "import pandas as pd\n",
    "\n",
    "mpl.rcParams['figure.dpi'] = 300\n",
    "\n",
    "from IPython.display import Image"
   ]
  },
  {
   "cell_type": "code",
   "execution_count": null,
   "id": "3ed33cdb",
   "metadata": {},
   "outputs": [],
   "source": [
    "import seaborn as sns\n",
    "print(sns.__version__)"
   ]
  },
  {
   "cell_type": "markdown",
   "id": "10fa7f5d",
   "metadata": {},
   "source": [
    "### Bug in FacetGrid in Seaborn 0.11.1\n",
    "https://github.com/mwaskom/seaborn/commit/dc10c4c55ae1e52beef2cb161b91b26ef280e14a\n",
    "\n",
    "https://github.com/mwaskom/seaborn/issues/1560\n",
    "\n",
    "Unrelated to actual issue, https://github.com/mwaskom/seaborn/issues/1653"
   ]
  },
  {
   "cell_type": "markdown",
   "id": "b8806373",
   "metadata": {},
   "source": [
    "## Batch size = 1 (mean runtimes only; no error bars)\n",
    "\n",
    "### Runtime growth w.r.t. input sequence length"
   ]
  },
  {
   "cell_type": "code",
   "execution_count": null,
   "id": "9dcaf662",
   "metadata": {},
   "outputs": [],
   "source": [
    "# data = np.loadtxt('results.txt',skiprows=1)\n",
    "data = pd.read_csv('results-bs1.csv')"
   ]
  },
  {
   "cell_type": "code",
   "execution_count": null,
   "id": "2ebae4a7",
   "metadata": {},
   "outputs": [],
   "source": [
    "data.columns"
   ]
  },
  {
   "cell_type": "code",
   "execution_count": null,
   "id": "cb9e1109",
   "metadata": {},
   "outputs": [],
   "source": [
    "data['Average time (ms)'] = data['Average time (s)']*1000"
   ]
  },
  {
   "cell_type": "code",
   "execution_count": null,
   "id": "f04e5e59",
   "metadata": {},
   "outputs": [],
   "source": [
    "# reverse order of legend\n",
    "hue_order = data['Hidden size of each LSTM layer'].unique()"
   ]
  },
  {
   "cell_type": "code",
   "execution_count": null,
   "id": "85b47c5e",
   "metadata": {},
   "outputs": [],
   "source": [
    "hue_order[::-1].sort()\n",
    "# print(type(hue_order))\n",
    "# print(hue_order.dtype)\n",
    "# hue_order = np.array(map(str, hue_order))\n",
    "\n",
    "#### KGF: I guess we dont need str keys for hue_order, style_order to match pandas \"category\" dtype?\n",
    "# hue_order = hue_order.astype(str)\n",
    "print(hue_order)"
   ]
  },
  {
   "cell_type": "code",
   "execution_count": null,
   "id": "a3c971f6",
   "metadata": {},
   "outputs": [],
   "source": [
    "data['Hidden size of each LSTM layer'] = data['Hidden size of each LSTM layer'].astype('category')\n",
    "print(data['Hidden size of each LSTM layer'])"
   ]
  },
  {
   "cell_type": "code",
   "execution_count": null,
   "id": "c6fd1d9c",
   "metadata": {},
   "outputs": [],
   "source": [
    "# fig, ax = plt.subplots()\n",
    "# ax = sns.lineplot(data=data, x='Length of input sequences', y='Average time (ms)', style='Num LSTM layers', hue='Hidden size of each LSTM layer', ci=None)  # , marker='o', dashes=False);\n",
    "# ax.set_ylabel('Average inference time (ms)')\n",
    "# ax.set_title(\"A100 inference time for batch size=1\")\n",
    "\n",
    "g = sns.relplot(data=data, x='Length of input sequences', y='Average time (ms)', \n",
    "                 style='Hidden size of each LSTM layer', \n",
    "                 hue='Hidden size of each LSTM layer', \n",
    "                 col='Num LSTM layers', ci=None, kind='line', \n",
    "                 hue_order=hue_order, style_order=hue_order,\n",
    "                  # https://github.com/mwaskom/seaborn/issues/1653\n",
    "                 legend='full',\n",
    "                 dashes=False,\n",
    "                 col_wrap=2, markers=True) # marker=['o']) \n",
    "\n",
    "# reverse order of legend\n",
    "#handles, labels = g.legend.legendHandles\n",
    "\n",
    "\n",
    "# https://stackoverflow.com/questions/68591271/how-can-i-combine-hue-and-style-groups-in-a-seaborn-legend\n",
    "# create a dictionary mapping the subscales to their color\n",
    "# handles, labels = ax.get_legend_handles_labels()\n",
    "# index_item_title = labels.index('Hidden size of each LSTM layer')\n",
    "# color_dict = {label: handle.get_color()\n",
    "#               for handle, label in zip(handles[1:index_item_title], labels[1:index_item_title])}\n",
    "\n",
    "# # loop through the items, assign color via the subscale of the item idem\n",
    "# for handle, label in zip(handles[index_item_title + 1:], labels[index_item_title + 1:]):\n",
    "#     handle.set_color(color_dict[subscale_dict[ label]])\n",
    "\n",
    "# # create a legend only using the items\n",
    "# ax.legend(handles[index_item_title + 1:], labels[index_item_title + 1:], title='Item',\n",
    "#           bbox_to_anchor=(1.03, 1.02), fontsize=10)\n",
    "\n",
    "g.axes[1].plot([128], [0.00253291*1000], marker='*', markersize=15, markeredgecolor=\"red\",\n",
    "               markerfacecolor=\"red\")\n",
    "for ax in g.axes:\n",
    "    ax.axhline(y=1, linestyle='--', color='gray', alpha=0.4 )\n"
   ]
  },
  {
   "cell_type": "code",
   "execution_count": null,
   "id": "346354e1",
   "metadata": {},
   "outputs": [],
   "source": [
    "g.legend.legendHandles"
   ]
  },
  {
   "cell_type": "code",
   "execution_count": null,
   "id": "cd899e54",
   "metadata": {},
   "outputs": [],
   "source": [
    "g.figure.savefig(\"a100-batch-size-1.pdf\")"
   ]
  },
  {
   "cell_type": "code",
   "execution_count": null,
   "id": "8326f98c",
   "metadata": {},
   "outputs": [],
   "source": [
    "data['Hidden size of each LSTM layer'].unique()"
   ]
  },
  {
   "cell_type": "code",
   "execution_count": null,
   "id": "dd0362e4",
   "metadata": {},
   "outputs": [],
   "source": [
    "data[data['Num LSTM layers'] == 6]"
   ]
  },
  {
   "cell_type": "code",
   "execution_count": null,
   "id": "c6d09688",
   "metadata": {},
   "outputs": [],
   "source": [
    "data[data['Num LSTM layers'] == 4].drop(\n",
    "    # labels=[0], axis=1)\n",
    "    columns=data.columns[[0, -2, -3]]).sort_values(by=['Hidden size of each LSTM layer', 'Length of input sequences'])"
   ]
  },
  {
   "cell_type": "markdown",
   "id": "7d623f6e",
   "metadata": {},
   "source": [
    "### Examine growth w.r.t. hidden size"
   ]
  },
  {
   "cell_type": "code",
   "execution_count": null,
   "id": "493fde12",
   "metadata": {},
   "outputs": [],
   "source": [
    "data = pd.read_csv('results-bs1.csv')\n",
    "data['Average time (ms)'] = data['Average time (s)']*1000"
   ]
  },
  {
   "cell_type": "code",
   "execution_count": null,
   "id": "ce9e45bd",
   "metadata": {},
   "outputs": [],
   "source": [
    "hue_order = data['Length of input sequences'].unique()\n",
    "hue_order[::-1].sort()\n",
    "data['Length of input sequences'] = data['Length of input sequences'].astype('category')\n",
    "# print(data['Length of input sequences'])"
   ]
  },
  {
   "cell_type": "code",
   "execution_count": null,
   "id": "0d65b29a",
   "metadata": {},
   "outputs": [],
   "source": [
    "g = sns.relplot(data=data, x='Hidden size of each LSTM layer', y='Average time (ms)', \n",
    "                 style='Length of input sequences', \n",
    "                 hue='Length of input sequences', \n",
    "                 col='Num LSTM layers', ci=None, kind='line', \n",
    "                 hue_order=hue_order, style_order=hue_order,\n",
    "                 legend='full',\n",
    "                 dashes=False,\n",
    "                 col_wrap=2, markers=True) \n",
    "\n",
    "g.axes[1].plot([200], [0.00253291*1000], marker='*', markersize=15, markeredgecolor=\"red\",\n",
    "               markerfacecolor=\"red\")\n",
    "for ax in g.axes:\n",
    "    ax.axhline(y=1, linestyle='--', color='gray', alpha=0.4 )\n",
    "    "
   ]
  },
  {
   "cell_type": "code",
   "execution_count": null,
   "id": "f05aad28",
   "metadata": {},
   "outputs": [],
   "source": [
    "g.figure.savefig(\"a100-batch-size-1-xaxis-hidden-size.pdf\")"
   ]
  },
  {
   "cell_type": "markdown",
   "id": "88dbdcec",
   "metadata": {},
   "source": [
    "\n",
    "\n",
    "\n",
    "\n",
    "\n",
    "\n",
    "\n",
    "\n",
    "\n"
   ]
  },
  {
   "cell_type": "markdown",
   "id": "b42b3f45",
   "metadata": {},
   "source": [
    "## Batch size >= 1 (mean runtimes only; no error bars)"
   ]
  },
  {
   "cell_type": "code",
   "execution_count": null,
   "id": "fa3f6460",
   "metadata": {},
   "outputs": [],
   "source": [
    "data = pd.read_csv('results.csv')\n",
    "data['Average time (ms)'] = data['Average time (s)']*1000"
   ]
  },
  {
   "cell_type": "code",
   "execution_count": null,
   "id": "8ca21eff",
   "metadata": {},
   "outputs": [],
   "source": [
    "data.columns"
   ]
  },
  {
   "cell_type": "code",
   "execution_count": null,
   "id": "01b761cb",
   "metadata": {},
   "outputs": [],
   "source": [
    "data.head()"
   ]
  },
  {
   "cell_type": "code",
   "execution_count": null,
   "id": "21fbfac6",
   "metadata": {},
   "outputs": [],
   "source": [
    "seq_length = 64\n",
    "num_layers = 2"
   ]
  },
  {
   "cell_type": "code",
   "execution_count": null,
   "id": "33ba757c",
   "metadata": {},
   "outputs": [],
   "source": [
    "df = data[(data['Num LSTM layers'] == num_layers) & (data['Length of input sequences'] == seq_length) ]"
   ]
  },
  {
   "cell_type": "code",
   "execution_count": null,
   "id": "db671d85",
   "metadata": {},
   "outputs": [],
   "source": [
    "df['Batch size'].unique()"
   ]
  },
  {
   "cell_type": "code",
   "execution_count": null,
   "id": "0d6caa29",
   "metadata": {},
   "outputs": [],
   "source": [
    "hue_order = df['Hidden size of each LSTM layer'].unique()\n",
    "hue_order[::-1].sort()\n",
    "df['Hidden size of each LSTM layer'] = df['Hidden size of each LSTM layer'].astype('category')\n",
    "print(df['Hidden size of each LSTM layer'])"
   ]
  },
  {
   "cell_type": "code",
   "execution_count": null,
   "id": "6b0f5b14",
   "metadata": {},
   "outputs": [],
   "source": [
    "df.head()"
   ]
  },
  {
   "cell_type": "code",
   "execution_count": null,
   "id": "ff5dad02",
   "metadata": {},
   "outputs": [],
   "source": [
    "g = sns.relplot(data=df, x='Batch size', y='Average time (ms)', \n",
    "                 style='Hidden size of each LSTM layer', \n",
    "                 hue='Hidden size of each LSTM layer', \n",
    "                 # col='Num LSTM layers', col_wrap=2, \n",
    "                 ci=None, kind='line', \n",
    "                 hue_order=hue_order, style_order=hue_order,\n",
    "                 legend='full',\n",
    "                 dashes=False,\n",
    "                 markers=True) \n",
    "#g.set(xscale=\"log\")  # , basex=2)\n",
    "# g.set(yscale=\"log\")\n",
    "\n",
    "ax =g.axes[0,0]\n",
    "ax.axhline(y=1, linestyle='--', color='gray', alpha=0.4 )\n",
    "ax.set_xscale('log', base=2)\n",
    "# ax.set_ylim([0,10]);\n",
    "\n",
    "g.fig.subplots_adjust(top=.93)\n",
    "ax.set_title(f'{num_layers} LSTM layers; input sequence length= {seq_length}')"
   ]
  },
  {
   "cell_type": "code",
   "execution_count": null,
   "id": "1d77e7c9",
   "metadata": {},
   "outputs": [],
   "source": [
    "g.figure.savefig(f\"a100-layers{num_layers}-length{seq_length}.pdf\")"
   ]
  },
  {
   "cell_type": "markdown",
   "id": "b87e6e1e",
   "metadata": {},
   "source": [
    "\n",
    "\n",
    "\n",
    "\n",
    "\n",
    "\n",
    "\n",
    "\n",
    "\n",
    "## Batch size >= 1 (with error bars)"
   ]
  },
  {
   "cell_type": "code",
   "execution_count": null,
   "id": "cdb4ddaf",
   "metadata": {},
   "outputs": [],
   "source": [
    "data = pd.read_csv('results-raw.csv')\n",
    "data['Inference time (ms)'] = data['Inference time (s)']*1000"
   ]
  },
  {
   "cell_type": "markdown",
   "id": "cf1064be",
   "metadata": {},
   "source": [
    "### Pandas summary stats"
   ]
  },
  {
   "cell_type": "code",
   "execution_count": null,
   "id": "1d6dce30",
   "metadata": {},
   "outputs": [],
   "source": [
    "# data\n",
    "data.head()"
   ]
  },
  {
   "cell_type": "code",
   "execution_count": null,
   "id": "a8c84c46",
   "metadata": {},
   "outputs": [],
   "source": [
    "# Q1, Q3 for 6 layer LSTM with 400 hidden units, batch size-512, input squence=32\n",
    "# 7.258159999999999 7.3257175\n",
    "inf_times = data[((data['Hidden size of each LSTM layer'] == 400) \n",
    "           & (data['Num LSTM layers'] == 6)\n",
    "           & (data['Batch size']==512)\n",
    "           & (data['Length of input sequences']==32)\n",
    "     )]['Inference time (ms)']\n",
    "\n",
    "get_num_outliers(inf_times)"
   ]
  },
  {
   "cell_type": "code",
   "execution_count": null,
   "id": "94361306",
   "metadata": {},
   "outputs": [],
   "source": [
    "gb = data.groupby(['Hidden size of each LSTM layer','Num LSTM layers','Batch size','Length of input sequences'])\n"
   ]
  },
  {
   "cell_type": "code",
   "execution_count": null,
   "id": "4b0cbf42",
   "metadata": {},
   "outputs": [],
   "source": [
    "gb['Inference time (ms)'].describe()"
   ]
  },
  {
   "cell_type": "markdown",
   "id": "10ef74e5",
   "metadata": {},
   "source": [
    "#### Count outliers\n",
    "https://stackoverflow.com/questions/39068214/how-to-count-outliers-for-all-columns-in-python\n",
    "\n",
    "https://stackoverflow.com/questions/48994157/get-the-number-of-outliers-by-group-in-pandas\n",
    "\n",
    "https://stackoverflow.com/questions/43264095/python-seaborn-how-are-outliers-determined-in-boxplots\n",
    "> It appears, by testing, that seaborn uses whis=1.5 as the default.\n",
    "\n",
    "> For a normal distribution, the interquartile range contains 50% of the population and 1.5 * IQR contains about 99%."
   ]
  },
  {
   "cell_type": "code",
   "execution_count": null,
   "id": "76ee7fa6",
   "metadata": {},
   "outputs": [],
   "source": [
    "def get_num_outliers(column):\n",
    "    q1 = np.percentile(column, 25)\n",
    "    q3 = np.percentile(column, 75)\n",
    "    whis = 1.5\n",
    "    iqr = q3-q1\n",
    "#     print(q1, q3)\n",
    "    return sum((column<(q1 - whis*iqr)) | (column>(q3 + whis*iqr)))"
   ]
  },
  {
   "cell_type": "code",
   "execution_count": null,
   "id": "d9dc4a07",
   "metadata": {},
   "outputs": [],
   "source": [
    "sgb = gb['Inference time (ms)']\n",
    "print(type(gb), type(sgb))"
   ]
  },
  {
   "cell_type": "code",
   "execution_count": null,
   "id": "474408e3",
   "metadata": {},
   "outputs": [],
   "source": [
    "pd.set_option(\"display.max_rows\", None, \"display.max_columns\", None)\n"
   ]
  },
  {
   "cell_type": "code",
   "execution_count": null,
   "id": "34efead7",
   "metadata": {},
   "outputs": [],
   "source": [
    "gb.agg([get_num_outliers]).loc[200, 2, :, 64]"
   ]
  },
  {
   "cell_type": "code",
   "execution_count": null,
   "id": "81acf27f",
   "metadata": {},
   "outputs": [],
   "source": [
    "pd.set_option(\"display.max_rows\", 100) #, \"display.max_columns\", None)\n",
    "pd.reset_option('display.max_rows')"
   ]
  },
  {
   "cell_type": "code",
   "execution_count": null,
   "id": "26589140",
   "metadata": {},
   "outputs": [],
   "source": [
    "# df2 = sgb.apply(pd.DataFrame)"
   ]
  },
  {
   "cell_type": "code",
   "execution_count": null,
   "id": "7261eb69",
   "metadata": {},
   "outputs": [],
   "source": [
    "Q1 = sgb.quantile(0.25)\n",
    "Q3 = sgb.quantile(0.75)\n",
    "IQR = Q3 - Q1"
   ]
  },
  {
   "cell_type": "code",
   "execution_count": null,
   "id": "de41c936",
   "metadata": {},
   "outputs": [],
   "source": [
    "(Q1 - 1.5 * IQR).shape"
   ]
  },
  {
   "cell_type": "code",
   "execution_count": null,
   "id": "4cf1c89d",
   "metadata": {},
   "outputs": [],
   "source": [
    "df['Inference time (ms)'].shape"
   ]
  },
  {
   "cell_type": "code",
   "execution_count": null,
   "id": "a5bcc2cd",
   "metadata": {},
   "outputs": [],
   "source": [
    "mask = (sgb < (Q1 - 1.5 * IQR)) | (sgb > (Q3 + 1.5 * IQR))\n"
   ]
  },
  {
   "cell_type": "markdown",
   "id": "abaead07",
   "metadata": {},
   "source": [
    "### Plot subset (boxplot?)"
   ]
  },
  {
   "cell_type": "code",
   "execution_count": null,
   "id": "585967ce",
   "metadata": {},
   "outputs": [],
   "source": [
    "seq_length = 128\n",
    "num_layers = 2\n",
    "hidden_size = 200"
   ]
  },
  {
   "cell_type": "code",
   "execution_count": null,
   "id": "0cc58d99",
   "metadata": {},
   "outputs": [],
   "source": [
    "df = data[(data['Num LSTM layers'] == num_layers) & (data['Length of input sequences'] == seq_length) \n",
    "           & (data['Hidden size of each LSTM layer'] == hidden_size)\n",
    "          #& (data['Batch size'] == 1)\n",
    "          \n",
    "         ]\n",
    "df['Hidden size of each LSTM layer'].unique()\n",
    "df.head()\n",
    "pd.reset_option('display.max_rows')\n",
    "df"
   ]
  },
  {
   "cell_type": "code",
   "execution_count": null,
   "id": "7cd3f913",
   "metadata": {},
   "outputs": [],
   "source": [
    "# Approach #1: seaborn\n",
    "\n",
    "\n",
    "# ax = sns.boxplot(data=df, x='Batch size', y='Inference time (ms)',\n",
    "#                   # hue='Hidden size of each LSTM layer',\n",
    "#                  fliersize=0.5,  # 5 is default\n",
    "#                  #showfliers=False,\n",
    "#                 )\n",
    "\n",
    "# ax.axhline(y=1, linestyle='--', color='gray', alpha=0.4 )\n",
    "\n",
    "# KGF: cant use traditional x-axis changes, since boxplot/violinplot interprets x as categorical, not numerical\n",
    "# ax.set_xscale('log', base=2)\n",
    "#\n",
    "# See ax.get_xlim()\n",
    "#  > (-0.5, 9.5)\n",
    "\n",
    "\n",
    "# --------------------------------------------------------------------\n",
    "# Approach #2: matplotlib\n",
    "\n",
    "# fig, ax = plt.subplots()\n",
    "# boxdict = ax.boxplot(data)\n",
    "\n",
    "# --------------------------------------------------------------------\n",
    "# Approach #3: pandas\n",
    "fig, ax = plt.subplots()\n",
    "boxdict = df.boxplot(column='Inference time (ms)',\n",
    "                     by='Batch size',\n",
    "                     ax=ax,\n",
    "                     return_type='dict')\n",
    "\n",
    "# len(boxdict['Inference time (ms)']['fliers'][0].get_xdata())\n",
    "\n",
    "# --------------------------------------------------------------------\n",
    "# For approaches #2 and #3:\n",
    "\n",
    "boxdict = boxdict['Inference time (ms)']\n",
    "# print(len(boxdict['fliers']))\n",
    "\n",
    "# loop over boxes in x direction\n",
    "for j in range(len(boxdict['fliers'])):\n",
    "    # the y and x positions of the fliers\n",
    "    yfliers = boxdict['fliers'][j].get_ydata()\n",
    "    xfliers = boxdict['fliers'][j].get_xdata()\n",
    "    \n",
    "    num_outliers = len(xfliers)\n",
    "    ax.text(xfliers[j] + 0.03, np.max(yfliers)*1.03, num_outliers)\n",
    "        \n",
    "ax.set_title(f'{num_layers} LSTM layers sized {hidden_size}; input sequence length= {seq_length}')\n",
    "ax.set_ylabel('Inference time (ms)')\n",
    "plt.suptitle('')"
   ]
  },
  {
   "cell_type": "code",
   "execution_count": null,
   "id": "d2a1db91",
   "metadata": {},
   "outputs": [],
   "source": [
    "ax.figure.savefig(f\"a100-boxplot-layers{num_layers}-length{seq_length}-size{hidden_size}.pdf\")"
   ]
  },
  {
   "cell_type": "markdown",
   "id": "03ef80f5",
   "metadata": {},
   "source": [
    "### Violinplot"
   ]
  },
  {
   "cell_type": "code",
   "execution_count": null,
   "id": "073ed813",
   "metadata": {},
   "outputs": [],
   "source": [
    "df = data[(data['Num LSTM layers'] == num_layers) & (data['Length of input sequences'] == seq_length) \n",
    "           & ((data['Hidden size of each LSTM layer'] == 200) | (data['Hidden size of each LSTM layer'] == 400) \n",
    "             )\n",
    "          & (data['Batch size'] == 1)\n",
    "         ]\n",
    "df.head()\n",
    "pd.reset_option('display.max_rows')\n",
    "df"
   ]
  },
  {
   "cell_type": "code",
   "execution_count": null,
   "id": "b8093dc6",
   "metadata": {},
   "outputs": [],
   "source": [
    "hue_order = df['Hidden size of each LSTM layer'].unique()\n",
    "hue_order[::-1].sort()\n",
    "df.loc[:,'Hidden size of each LSTM layer'] = df['Hidden size of each LSTM layer'].astype('category')\n",
    "print(df['Hidden size of each LSTM layer'])"
   ]
  },
  {
   "cell_type": "code",
   "execution_count": null,
   "id": "b33172b1",
   "metadata": {},
   "outputs": [],
   "source": [
    "ax = sns.violinplot(data=df, x='Batch size', y='Inference time (ms)',\n",
    "                    hue='Hidden size of each LSTM layer', \n",
    "                    inner=None, # 'point', # 'quart',  #'box',\n",
    "                    split=True,\n",
    "                    #fontsize=6,\n",
    "                )\n",
    "ax.axhline(y=1, linestyle='--', color='gray', alpha=0.4 )\n",
    "ax.set_title(f'{num_layers} LSTM layers; input sequence length= {seq_length}')\n",
    "\n",
    "# ax.set_yscale('log')\n",
    "ax.legend(title='Hidden size', prop=dict(size=8))"
   ]
  },
  {
   "cell_type": "code",
   "execution_count": null,
   "id": "0bd596a5",
   "metadata": {},
   "outputs": [],
   "source": [
    "ax.figure.savefig(f\"a100-violinplot-layers{num_layers}-length{seq_length}-bs1.pdf\")"
   ]
  },
  {
   "cell_type": "markdown",
   "id": "f326aad2",
   "metadata": {},
   "source": [
    "### Line plot with confidence interval\n",
    "\n",
    "Nevermind, `sns.lineplot` uses simple 95% confidence interval assuming normally distributed data, standard error probably estimated from all (x,y) samples?\n",
    "\n",
    "`ci=95` default"
   ]
  },
  {
   "cell_type": "code",
   "execution_count": null,
   "id": "859e7e92",
   "metadata": {},
   "outputs": [],
   "source": []
  }
 ],
 "metadata": {
  "kernelspec": {
   "display_name": "Python 3 (ipykernel)",
   "language": "python",
   "name": "python3"
  },
  "language_info": {
   "codemirror_mode": {
    "name": "ipython",
    "version": 3
   },
   "file_extension": ".py",
   "mimetype": "text/x-python",
   "name": "python",
   "nbconvert_exporter": "python",
   "pygments_lexer": "ipython3",
   "version": "3.8.13"
  }
 },
 "nbformat": 4,
 "nbformat_minor": 5
}
