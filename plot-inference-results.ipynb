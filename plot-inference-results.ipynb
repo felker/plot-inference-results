{
 "cells": [
  {
   "cell_type": "code",
   "execution_count": null,
   "id": "9b1e4881",
   "metadata": {},
   "outputs": [],
   "source": [
    "!pwd"
   ]
  },
  {
   "cell_type": "code",
   "execution_count": null,
   "id": "40877d85",
   "metadata": {},
   "outputs": [],
   "source": [
    "import numpy as np\n",
    "import matplotlib.pyplot as plt\n",
    "import matplotlib as mpl\n",
    "import pandas as pd\n",
    "\n",
    "mpl.rcParams['figure.dpi'] = 300\n",
    "\n",
    "from IPython.display import Image"
   ]
  },
  {
   "cell_type": "code",
   "execution_count": null,
   "id": "3ed33cdb",
   "metadata": {},
   "outputs": [],
   "source": [
    "import seaborn as sns\n",
    "print(sns.__version__)"
   ]
  },
  {
   "cell_type": "markdown",
   "id": "10fa7f5d",
   "metadata": {},
   "source": [
    "### Bug in FacetGrid in Seaborn 0.11.1\n",
    "https://github.com/mwaskom/seaborn/commit/dc10c4c55ae1e52beef2cb161b91b26ef280e14a\n",
    "\n",
    "https://github.com/mwaskom/seaborn/issues/1560\n",
    "\n",
    "Unrelated to actual issue, https://github.com/mwaskom/seaborn/issues/1653"
   ]
  },
  {
   "cell_type": "code",
   "execution_count": null,
   "id": "9dcaf662",
   "metadata": {},
   "outputs": [],
   "source": [
    "# data = np.loadtxt('results.txt',skiprows=1)\n",
    "data = pd.read_csv('results-bs1.csv')\n"
   ]
  },
  {
   "cell_type": "code",
   "execution_count": null,
   "id": "2ebae4a7",
   "metadata": {},
   "outputs": [],
   "source": [
    "data.columns"
   ]
  },
  {
   "cell_type": "code",
   "execution_count": null,
   "id": "cb9e1109",
   "metadata": {},
   "outputs": [],
   "source": [
    "data['Average time (ms)'] = data['Average time (s)']*1000"
   ]
  },
  {
   "cell_type": "code",
   "execution_count": null,
   "id": "f04e5e59",
   "metadata": {},
   "outputs": [],
   "source": [
    "# reverse order of legend\n",
    "hue_order = data['Hidden size of each LSTM layer'].unique()"
   ]
  },
  {
   "cell_type": "code",
   "execution_count": null,
   "id": "85b47c5e",
   "metadata": {},
   "outputs": [],
   "source": [
    "hue_order[::-1].sort()\n",
    "# print(type(hue_order))\n",
    "# print(hue_order.dtype)\n",
    "# hue_order = np.array(map(str, hue_order))\n",
    "\n",
    "#### KGF: I guess we dont need str keys for hue_order, style_order to match pandas \"category\" dtype?\n",
    "# hue_order = hue_order.astype(str)\n",
    "print(hue_order)"
   ]
  },
  {
   "cell_type": "code",
   "execution_count": null,
   "id": "a3c971f6",
   "metadata": {},
   "outputs": [],
   "source": [
    "data['Hidden size of each LSTM layer'] = data['Hidden size of each LSTM layer'].astype('category')\n",
    "print(data['Hidden size of each LSTM layer'])"
   ]
  },
  {
   "cell_type": "code",
   "execution_count": null,
   "id": "c6fd1d9c",
   "metadata": {},
   "outputs": [],
   "source": [
    "# fig, ax = plt.subplots()\n",
    "# ax = sns.lineplot(data=data, x='Length of input sequences', y='Average time (ms)', style='Num LSTM layers', hue='Hidden size of each LSTM layer', ci=None)  # , marker='o', dashes=False);\n",
    "# ax.set_ylabel('Average inference time (ms)')\n",
    "# ax.set_title(\"A100 inference time for batch size=1\")\n",
    "\n",
    "g = sns.relplot(data=data, x='Length of input sequences', y='Average time (ms)', \n",
    "                 style='Hidden size of each LSTM layer', \n",
    "                 hue='Hidden size of each LSTM layer', \n",
    "                 col='Num LSTM layers', ci=None, kind='line', \n",
    "                 hue_order=hue_order, style_order=hue_order,\n",
    "                  # https://github.com/mwaskom/seaborn/issues/1653\n",
    "                 legend='full',\n",
    "                 dashes=False,\n",
    "                 col_wrap=2, markers=True) # marker=['o']) \n",
    "\n",
    "# reverse order of legend\n",
    "#handles, labels = g.legend.legendHandles\n",
    "\n",
    "\n",
    "# https://stackoverflow.com/questions/68591271/how-can-i-combine-hue-and-style-groups-in-a-seaborn-legend\n",
    "# create a dictionary mapping the subscales to their color\n",
    "# handles, labels = ax.get_legend_handles_labels()\n",
    "# index_item_title = labels.index('Hidden size of each LSTM layer')\n",
    "# color_dict = {label: handle.get_color()\n",
    "#               for handle, label in zip(handles[1:index_item_title], labels[1:index_item_title])}\n",
    "\n",
    "# # loop through the items, assign color via the subscale of the item idem\n",
    "# for handle, label in zip(handles[index_item_title + 1:], labels[index_item_title + 1:]):\n",
    "#     handle.set_color(color_dict[subscale_dict[ label]])\n",
    "\n",
    "# # create a legend only using the items\n",
    "# ax.legend(handles[index_item_title + 1:], labels[index_item_title + 1:], title='Item',\n",
    "#           bbox_to_anchor=(1.03, 1.02), fontsize=10)\n",
    "\n",
    "g.axes[1].plot([128], [0.00253291*1000], marker='*', markersize=15, markeredgecolor=\"red\",\n",
    "               markerfacecolor=\"red\")\n",
    "for ax in g.axes:\n",
    "    ax.axhline(y=1, linestyle='--', color='gray', alpha=0.4 )\n"
   ]
  },
  {
   "cell_type": "code",
   "execution_count": null,
   "id": "346354e1",
   "metadata": {},
   "outputs": [],
   "source": [
    "g.legend.legendHandles"
   ]
  },
  {
   "cell_type": "code",
   "execution_count": null,
   "id": "cd899e54",
   "metadata": {},
   "outputs": [],
   "source": [
    "g.figure.savefig(\"a100-batch-size-1.pdf\")"
   ]
  },
  {
   "cell_type": "code",
   "execution_count": null,
   "id": "8326f98c",
   "metadata": {},
   "outputs": [],
   "source": [
    "data['Hidden size of each LSTM layer'].unique()"
   ]
  },
  {
   "cell_type": "code",
   "execution_count": null,
   "id": "dd0362e4",
   "metadata": {},
   "outputs": [],
   "source": [
    "data[data['Num LSTM layers'] == 6]"
   ]
  },
  {
   "cell_type": "code",
   "execution_count": null,
   "id": "c6d09688",
   "metadata": {},
   "outputs": [],
   "source": [
    "data[data['Num LSTM layers'] == 4].drop(\n",
    "    # labels=[0], axis=1)\n",
    "    columns=data.columns[[0, -2, -3]]).sort_values(by=['Hidden size of each LSTM layer', 'Length of input sequences'])"
   ]
  }
 ],
 "metadata": {
  "kernelspec": {
   "display_name": "Python 3",
   "language": "python",
   "name": "python3"
  },
  "language_info": {
   "codemirror_mode": {
    "name": "ipython",
    "version": 3
   },
   "file_extension": ".py",
   "mimetype": "text/x-python",
   "name": "python",
   "nbconvert_exporter": "python",
   "pygments_lexer": "ipython3",
   "version": "3.8.0"
  }
 },
 "nbformat": 4,
 "nbformat_minor": 5
}
